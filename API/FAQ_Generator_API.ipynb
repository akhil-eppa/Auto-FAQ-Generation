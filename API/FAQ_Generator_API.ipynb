{
  "nbformat": 4,
  "nbformat_minor": 0,
  "metadata": {
    "colab": {
      "name": "FAQ-Generator-API.ipynb",
      "provenance": [],
      "collapsed_sections": [],
      "authorship_tag": "ABX9TyPRmKZgsfhjARMfr+zUmX1k",
      "include_colab_link": true
    },
    "kernelspec": {
      "name": "python3",
      "display_name": "Python 3"
    },
    "language_info": {
      "name": "python"
    }
  },
  "cells": [
    {
      "cell_type": "markdown",
      "metadata": {
        "id": "view-in-github",
        "colab_type": "text"
      },
      "source": [
        "<a href=\"https://colab.research.google.com/github/akhil-eppa/Auto-FAQ-Generation/blob/main/API/FAQ_Generator_API.ipynb\" target=\"_parent\"><img src=\"https://colab.research.google.com/assets/colab-badge.svg\" alt=\"Open In Colab\"/></a>"
      ]
    },
    {
      "cell_type": "markdown",
      "metadata": {
        "id": "aN0DZwb1cRlq"
      },
      "source": [
        "# Install packages"
      ]
    },
    {
      "cell_type": "code",
      "metadata": {
        "id": "qK4JabkPkFhr"
      },
      "source": [
        "!pip install fastapi\n",
        "!pip install colabcode\n",
        "!pip install pydantic"
      ],
      "execution_count": null,
      "outputs": []
    },
    {
      "cell_type": "code",
      "metadata": {
        "id": "n-Z-Zd7bbUHN"
      },
      "source": [
        "!pip install transformers[torch]\n",
        "!pip install textblob\n",
        "!pip install advertools"
      ],
      "execution_count": null,
      "outputs": []
    },
    {
      "cell_type": "code",
      "metadata": {
        "id": "furmTwlbcjVJ",
        "colab": {
          "base_uri": "https://localhost:8080/"
        },
        "outputId": "0bdb064b-b39f-43f5-fb25-a03e3d5ad1f4"
      },
      "source": [
        "import nltk\n",
        "nltk.download('punkt')\n",
        "nltk.download('averaged_perceptron_tagger')"
      ],
      "execution_count": 21,
      "outputs": [
        {
          "output_type": "stream",
          "name": "stdout",
          "text": [
            "[nltk_data] Downloading package punkt to /root/nltk_data...\n",
            "[nltk_data]   Package punkt is already up-to-date!\n",
            "[nltk_data] Downloading package averaged_perceptron_tagger to\n",
            "[nltk_data]     /root/nltk_data...\n",
            "[nltk_data]   Package averaged_perceptron_tagger is already up-to-\n",
            "[nltk_data]       date!\n"
          ]
        },
        {
          "output_type": "execute_result",
          "data": {
            "text/plain": [
              "True"
            ]
          },
          "metadata": {},
          "execution_count": 21
        }
      ]
    },
    {
      "cell_type": "markdown",
      "metadata": {
        "id": "BbIX8JGBcr3V"
      },
      "source": [
        "# Import modules"
      ]
    },
    {
      "cell_type": "code",
      "metadata": {
        "id": "TFPfJ-21blVk"
      },
      "source": [
        "import answer_generator as AG"
      ],
      "execution_count": 22,
      "outputs": []
    },
    {
      "cell_type": "markdown",
      "metadata": {
        "id": "z5POZGl1fZ18"
      },
      "source": [
        "# API Pipeline"
      ]
    },
    {
      "cell_type": "code",
      "metadata": {
        "id": "CpzuCCjIeYWm"
      },
      "source": [
        "from pydantic import BaseModel\n",
        "\n",
        "class Query(BaseModel):\n",
        "  context: str\n",
        "  question: str"
      ],
      "execution_count": 23,
      "outputs": []
    },
    {
      "cell_type": "code",
      "metadata": {
        "id": "wQAnTaZufzJl"
      },
      "source": [
        "from fastapi import FastAPI \n",
        "\n",
        "app = FastAPI()\n",
        "\n",
        "@app.get('/')\n",
        "def home():\n",
        "  return {'message': \"Welcome to FAQ Generator API\"}\n",
        "\n",
        "@app.post('/get-answer')\n",
        "def get_answer(query: Query):\n",
        "  data = query.dict()\n",
        "\n",
        "  context = data['context']\n",
        "  question = data['question']\n",
        "\n",
        "  result = AG.get_gold_answer(context, question)\n",
        "  return result"
      ],
      "execution_count": 24,
      "outputs": []
    },
    {
      "cell_type": "markdown",
      "metadata": {
        "id": "6M4j6gJchasd"
      },
      "source": [
        "# Deploy API"
      ]
    },
    {
      "cell_type": "code",
      "metadata": {
        "id": "JKhaOq2Ghfy-"
      },
      "source": [
        "from colabcode import ColabCode\n",
        "api_server = ColabCode(port=5000, code=False)"
      ],
      "execution_count": 25,
      "outputs": []
    },
    {
      "cell_type": "code",
      "metadata": {
        "id": "2ky_pRIuhphW"
      },
      "source": [
        "api_server.run_app(app=app)"
      ],
      "execution_count": null,
      "outputs": []
    }
  ]
}