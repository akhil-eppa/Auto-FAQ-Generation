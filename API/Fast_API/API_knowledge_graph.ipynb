{
  "nbformat": 4,
  "nbformat_minor": 0,
  "metadata": {
    "colab": {
      "name": "API_knowledge_graph.ipy",
      "private_outputs": true,
      "provenance": [],
      "collapsed_sections": [],
      "include_colab_link": true
    },
    "kernelspec": {
      "name": "python3",
      "display_name": "Python 3"
    },
    "language_info": {
      "name": "python"
    },
    "accelerator": "GPU"
  },
  "cells": [
    {
      "cell_type": "markdown",
      "metadata": {
        "id": "view-in-github",
        "colab_type": "text"
      },
      "source": [
        "<a href=\"https://colab.research.google.com/github/akhil-eppa/Auto-FAQ-Generation/blob/main/API/Fast_API/API_knowledge_graph.ipynb\" target=\"_parent\"><img src=\"https://colab.research.google.com/assets/colab-badge.svg\" alt=\"Open In Colab\"/></a>"
      ]
    },
    {
      "cell_type": "markdown",
      "metadata": {
        "id": "vL3KmnoRago6"
      },
      "source": [
        "# Install Packages"
      ]
    },
    {
      "cell_type": "code",
      "metadata": {
        "id": "InLu7t6DZVAN"
      },
      "source": [
        "!pip install fastapi\n",
        "!pip install uvicorn"
      ],
      "execution_count": null,
      "outputs": []
    },
    {
      "cell_type": "code",
      "metadata": {
        "id": "EkG75vPpjFwI"
      },
      "source": [
        "!npm install -g localtunnel"
      ],
      "execution_count": null,
      "outputs": []
    },
    {
      "cell_type": "code",
      "metadata": {
        "id": "pLwxHZ-wbvmD"
      },
      "source": [
        "!pip install transformers\n",
        "!pip install sentencepiece\n",
        "!pip install advertools\n",
        "!pip install uvicorn[standard] gunicorn"
      ],
      "execution_count": null,
      "outputs": []
    },
    {
      "cell_type": "markdown",
      "metadata": {
        "id": "7E3Vh3pObsTH"
      },
      "source": [
        "# Install Modules"
      ]
    },
    {
      "cell_type": "code",
      "source": [
        "%cd /content"
      ],
      "metadata": {
        "id": "UwcKSbZQV6bW"
      },
      "execution_count": null,
      "outputs": []
    },
    {
      "cell_type": "code",
      "source": [
        "!rm -rf Auto-FAQ-Generation"
      ],
      "metadata": {
        "id": "2cH62uJsKhLL"
      },
      "execution_count": null,
      "outputs": []
    },
    {
      "cell_type": "code",
      "metadata": {
        "id": "FgUme9W2Q4jo"
      },
      "source": [
        "!git clone https://github.com/akhil-eppa/Auto-FAQ-Generation.git\n",
        "%cd /content/Auto-FAQ-Generation/API/Fast_API"
      ],
      "execution_count": null,
      "outputs": []
    },
    {
      "cell_type": "markdown",
      "metadata": {
        "id": "O37oE_Z5jO3c"
      },
      "source": [
        "# API Pipeline"
      ]
    },
    {
      "cell_type": "markdown",
      "metadata": {
        "id": "j2RjVqpykGuc"
      },
      "source": [
        "# Deploy API"
      ]
    },
    {
      "cell_type": "code",
      "source": [
        "import uvicorn \n",
        "from threading import Thread\n",
        "from run_api import app\n",
        "\n",
        "thread = Thread(target=uvicorn.run, kwargs={'app': app, 'port': 8000,'host':'0.0.0.0'})\n",
        "thread.start()"
      ],
      "metadata": {
        "id": "uK9lbKlA8Q4U"
      },
      "execution_count": null,
      "outputs": []
    },
    {
      "cell_type": "code",
      "source": [
        "!lt --port 8000 --subdomain faq-generator-1"
      ],
      "metadata": {
        "id": "JEa1Gbat8vyE"
      },
      "execution_count": null,
      "outputs": []
    }
  ]
}